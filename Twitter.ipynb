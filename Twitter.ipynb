{
 "metadata": {
  "language_info": {
   "codemirror_mode": {
    "name": "ipython",
    "version": 3
   },
   "file_extension": ".py",
   "mimetype": "text/x-python",
   "name": "python",
   "nbconvert_exporter": "python",
   "pygments_lexer": "ipython3",
   "version": "3.9.0-final"
  },
  "orig_nbformat": 2,
  "kernelspec": {
   "name": "python3",
   "display_name": "Python 3.9.0 64-bit",
   "metadata": {
    "interpreter": {
     "hash": "0c59f1f2c9e8a59adf31b6f2cc77055be9addb40e0a6d2e82a3db15300d2d0a1"
    }
   }
  }
 },
 "nbformat": 4,
 "nbformat_minor": 2,
 "cells": [
  {
   "cell_type": "code",
   "execution_count": 103,
   "metadata": {},
   "outputs": [],
   "source": [
    "#Author Antonio Cebreiro Bernárdez\n",
    "\n",
    "import requests\n",
    "import os\n",
    "import json\n",
    "import unicodedata\n",
    "import csv\n",
    "import re"
   ]
  },
  {
   "cell_type": "code",
   "execution_count": 77,
   "metadata": {},
   "outputs": [],
   "source": [
    "def auth():\n",
    "    return \"AAAAAAAAAAAAAAAAAAAAAPdZLgEAAAAA3ltuX2UqfmE1wr9KdXIuGWZTuew%3DPBfk4LbYbE1RMPSt54VOMpLUWYvRugNYfhzneD1gstdT5PHd\"\n",
    "    #That key is not valid. You have to replace with yours, that's given when you create a Twitter Developer Account."
   ]
  },
  {
   "cell_type": "code",
   "execution_count": 78,
   "metadata": {},
   "outputs": [],
   "source": [
    "\n",
    "def create_url():\n",
    "    query = \"lang:en -https The walking dead\"\n",
    "    url = \"https://api.twitter.com/2/tweets/search/recent?query={}\".format(\n",
    "        query\n",
    "    )\n",
    "    return url\n"
   ]
  },
  {
   "cell_type": "code",
   "execution_count": 79,
   "metadata": {},
   "outputs": [],
   "source": [
    "def create_headers(bearer_token):\n",
    "    headers = {\"Authorization\": \"Bearer {}\".format(bearer_token)}\n",
    "    return headers"
   ]
  },
  {
   "cell_type": "code",
   "execution_count": 80,
   "metadata": {},
   "outputs": [],
   "source": [
    "def connect_to_endpoint(url, headers):\n",
    "    response = requests.request(\"GET\", url, headers=headers)\n",
    "    if response.status_code != 200:\n",
    "        raise Exception(response.status_code, response.text)\n",
    "    return response.json()"
   ]
  },
  {
   "cell_type": "code",
   "execution_count": 104,
   "metadata": {},
   "outputs": [],
   "source": [
    "def main():\n",
    "    bearer_token = auth()\n",
    "    url = create_url()\n",
    "    headers = create_headers(bearer_token)\n",
    "    json_response = connect_to_endpoint(url, headers)\n",
    "    txt = json.dumps(json_response, indent=4, sort_keys=True, ensure_ascii=False)\n",
    "    y = json.loads(txt)\n",
    "\n",
    "    with open('tweets.csv', 'w', encoding='utf-8', newline='') as csvfile:\n",
    "        filewriter = csv.writer(csvfile)\n",
    "        filewriter.writerow(['Label','text'])\n",
    "        regex = re.compile(r'[\\n\\r\\t]')\n",
    "        for xx in y['data']:\n",
    "            tweet = xx['text'].strip()\n",
    "            tweet = regex.sub(\" \", tweet)\n",
    "            filewriter.writerow(['0', tweet])\n",
    "        \n",
    "\n",
    "if __name__ == \"__main__\":\n",
    "    main()\n",
    "    "
   ]
  },
  {
   "cell_type": "code",
   "execution_count": null,
   "metadata": {},
   "outputs": [],
   "source": []
  }
 ]
}